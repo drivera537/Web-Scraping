{
 "cells": [
  {
   "cell_type": "code",
   "execution_count": 1,
   "metadata": {},
   "outputs": [],
   "source": [
    "from splinter import Browser\n",
    "from bs4 import BeautifulSoup as bs\n",
    "import time\n",
    "import pandas as pd"
   ]
  },
  {
   "cell_type": "code",
   "execution_count": 2,
   "metadata": {},
   "outputs": [],
   "source": [
    "executable_path = {\"executable_path\": \"/usr/local/bin/chromedriver\"}\n",
    "browser = Browser(\"chrome\", **executable_path, headless = False)\n"
   ]
  },
  {
   "cell_type": "code",
   "execution_count": 3,
   "metadata": {},
   "outputs": [],
   "source": [
    "urlNews = \"https://mars.nasa.gov/news/\"\n",
    "browser.visit(urlNews)\n",
    "\n",
    "time.sleep(5)"
   ]
  },
  {
   "cell_type": "code",
   "execution_count": 4,
   "metadata": {},
   "outputs": [],
   "source": [
    "html = browser.html\n",
    "soup = bs(html, \"html.parser\")"
   ]
  },
  {
   "cell_type": "code",
   "execution_count": 5,
   "metadata": {},
   "outputs": [
    {
     "name": "stdout",
     "output_type": "stream",
     "text": [
      "{'article_date': 'May 29, 2019', 'article_title': \"NASA's Curiosity Mars Rover Finds a Clay Cache\", 'article_synopsis': 'The rover recently drilled two samples, and both showed the highest levels of clay ever found during the mission.'}\n"
     ]
    }
   ],
   "source": [
    "# Mars news\n",
    "title_element = soup.find('div', {'class': \"content_title\"})\n",
    "for title in title_element:\n",
    "    title = title_element.find_all('a')[0].text\n",
    "\n",
    "date = soup.find_all('div', {\"class\": 'list_date'})[0].text\n",
    "paragraph = soup.find_all('div', {'class': \"article_teaser_body\"})[0].text\n",
    "\n",
    "article_data = {\n",
    "            \"article_date\" : date,\n",
    "            \"article_title\" : title,\n",
    "            \"article_synopsis\": paragraph\n",
    "}\n",
    "\n",
    "\n",
    "print(article_data)\n",
    "\n",
    "\n",
    "\n"
   ]
  },
  {
   "cell_type": "code",
   "execution_count": 6,
   "metadata": {},
   "outputs": [
    {
     "data": {
      "text/plain": [
       "'https://www.jpl.nasa.gov/spaceimages/images/largesize/PIA17563_hires.jpg'"
      ]
     },
     "execution_count": 6,
     "metadata": {},
     "output_type": "execute_result"
    }
   ],
   "source": [
    "# get base url to add src of the featured image\n",
    "from urllib.parse import urlparse\n",
    "o = urlparse(\"https://www.jpl.nasa.gov/spaceimages/?search=&category=Mars\")\n",
    "\n",
    "base_url = o.scheme + \"://\"+ o.netloc\n",
    "base_url\n",
    "\n",
    "imageUrl = \"https://www.jpl.nasa.gov/spaceimages/?search=&category=Mars\"\n",
    "browser.visit(imageUrl)\n",
    "\n",
    "html_image = browser.html\n",
    "image_soup = bs(html_image, \"html.parser\")\n",
    "\n",
    "full_image = browser.find_by_id('full_image')\n",
    "full_image.click()\n",
    "\n",
    "time.sleep(5)\n",
    "\n",
    "to_main_image = browser.find_by_text('more info     ')\n",
    "to_main_image.click()\n",
    "\n",
    "time.sleep(5)\n",
    "\n",
    "html_image = browser.html\n",
    "soup = bs(html_image, \"html.parser\")\n",
    "\n",
    "i_path = soup.find(\"section\", {'class': \"content_page module\"})\n",
    "image_path = i_path.find_all('img')[0]['src']\n",
    "image_path\n",
    "image_url = base_url + image_path\n",
    "image_url\n",
    "\n"
   ]
  },
  {
   "cell_type": "code",
   "execution_count": 7,
   "metadata": {},
   "outputs": [
    {
     "name": "stdout",
     "output_type": "stream",
     "text": [
      "InSight sol 178 (2019-05-28) low -101.1ºC (-150.0ºF) high -23.0ºC (-9.5ºF)\n",
      "winds from the SW at 4.8 m/s (10.8 mph) gusting to 15.0 m/s (33.5 mph)\n",
      "pressure at 7.50 hPapic.twitter.com/4Ejlnu9Kam\n"
     ]
    }
   ],
   "source": [
    "# Weahter Scrape\n",
    "weather_url = \"https://twitter.com/marswxreport?lang=en\"\n",
    "weather_url\n",
    "\n",
    "browser.visit(weather_url)\n",
    "\n",
    "html_weather = browser.html\n",
    "weather_soup = bs(html_weather, \"html.parser\")\n",
    "\n",
    "mars_weather = weather_soup.find(\"p\", {\"class\" : 'tweet-text'}).get_text()\n",
    "mars_weather\n",
    "print(mars_weather)\n"
   ]
  },
  {
   "cell_type": "code",
   "execution_count": null,
   "metadata": {},
   "outputs": [],
   "source": []
  },
  {
   "cell_type": "code",
   "execution_count": 8,
   "metadata": {},
   "outputs": [
    {
     "data": {
      "text/html": [
       "<div>\n",
       "<style scoped>\n",
       "    .dataframe tbody tr th:only-of-type {\n",
       "        vertical-align: middle;\n",
       "    }\n",
       "\n",
       "    .dataframe tbody tr th {\n",
       "        vertical-align: top;\n",
       "    }\n",
       "\n",
       "    .dataframe thead th {\n",
       "        text-align: right;\n",
       "    }\n",
       "</style>\n",
       "<table border=\"1\" class=\"dataframe\">\n",
       "  <thead>\n",
       "    <tr style=\"text-align: right;\">\n",
       "      <th></th>\n",
       "      <th>keys</th>\n",
       "      <th>dimensions</th>\n",
       "    </tr>\n",
       "  </thead>\n",
       "  <tbody>\n",
       "    <tr>\n",
       "      <th>0</th>\n",
       "      <td>Equatorial Diameter:</td>\n",
       "      <td>6,792 km</td>\n",
       "    </tr>\n",
       "    <tr>\n",
       "      <th>1</th>\n",
       "      <td>Polar Diameter:</td>\n",
       "      <td>6,752 km</td>\n",
       "    </tr>\n",
       "    <tr>\n",
       "      <th>2</th>\n",
       "      <td>Mass:</td>\n",
       "      <td>6.42 x 10^23 kg (10.7% Earth)</td>\n",
       "    </tr>\n",
       "    <tr>\n",
       "      <th>3</th>\n",
       "      <td>Moons:</td>\n",
       "      <td>2 (Phobos &amp; Deimos)</td>\n",
       "    </tr>\n",
       "    <tr>\n",
       "      <th>4</th>\n",
       "      <td>Orbit Distance:</td>\n",
       "      <td>227,943,824 km (1.52 AU)</td>\n",
       "    </tr>\n",
       "    <tr>\n",
       "      <th>5</th>\n",
       "      <td>Orbit Period:</td>\n",
       "      <td>687 days (1.9 years)</td>\n",
       "    </tr>\n",
       "    <tr>\n",
       "      <th>6</th>\n",
       "      <td>Surface Temperature:</td>\n",
       "      <td>-153 to 20 °C</td>\n",
       "    </tr>\n",
       "    <tr>\n",
       "      <th>7</th>\n",
       "      <td>First Record:</td>\n",
       "      <td>2nd millennium BC</td>\n",
       "    </tr>\n",
       "    <tr>\n",
       "      <th>8</th>\n",
       "      <td>Recorded By:</td>\n",
       "      <td>Egyptian astronomers</td>\n",
       "    </tr>\n",
       "  </tbody>\n",
       "</table>\n",
       "</div>"
      ],
      "text/plain": [
       "                   keys                     dimensions\n",
       "0  Equatorial Diameter:                       6,792 km\n",
       "1       Polar Diameter:                       6,752 km\n",
       "2                 Mass:  6.42 x 10^23 kg (10.7% Earth)\n",
       "3                Moons:            2 (Phobos & Deimos)\n",
       "4       Orbit Distance:       227,943,824 km (1.52 AU)\n",
       "5         Orbit Period:           687 days (1.9 years)\n",
       "6  Surface Temperature:                  -153 to 20 °C\n",
       "7         First Record:              2nd millennium BC\n",
       "8          Recorded By:           Egyptian astronomers"
      ]
     },
     "execution_count": 8,
     "metadata": {},
     "output_type": "execute_result"
    }
   ],
   "source": [
    "# Facts Table\n",
    "\n",
    "url = 'http://space-facts.com/mars/'\n",
    "facts = pd.read_html(url)\n",
    "facts[0]\n",
    "\n",
    "facts_df = facts[0]\n",
    "facts_df.columns = ['keys','dimensions']\n",
    "facts_df"
   ]
  },
  {
   "cell_type": "code",
   "execution_count": 66,
   "metadata": {},
   "outputs": [
    {
     "data": {
      "text/plain": [
       "[{'title': 'Cerberus Hemisphere Enhanced',\n",
       "  'image_url': '/cache/images/cfa62af2557222a02478f1fcd781d445_cerberus_enhanced.tif_full.jpg'},\n",
       " 'title',\n",
       " 'image_url']"
      ]
     },
     "execution_count": 66,
     "metadata": {},
     "output_type": "execute_result"
    }
   ],
   "source": [
    "# Hemisphere\n",
    "urlNews = \"https://astrogeology.usgs.gov/search/results?q=hemisphere+enhanced&k1=target&v1=Mars\"\n",
    "browser.visit(urlNews)\n",
    "\n",
    "from urllib.parse import urlparse\n",
    "o = urlparse(\"https://astrogeology.usgs.gov/search/results?q=hemisphere+enhanced&k1=target&v1=Mars\")\n",
    "\n",
    "base_url = o.scheme + \"://\"+ o.netloc\n",
    "base_url\n",
    "\n",
    "time.sleep(5)\n",
    "\n",
    "hemisphere_lst = []\n",
    "\n",
    "find_a=browser.find_by_css('div[class=\"description\"] a')\n",
    "find_a[0].click()\n",
    "\n",
    "time.sleep(5)\n",
    "\n",
    "html = browser.html\n",
    "hemisphere_soup = bs(html, \"html.parser\")\n",
    "\n",
    "title = hemisphere_soup.find('h2', {\"class\":\"title\"}).text\n",
    "\n",
    "image_url = hemisphere_soup.find(\"img\", class_=\"wide-image\")[\"src\"]\n",
    "\n",
    "hemisphere_1 = {'title': title, 'image_url' : image_url}\n",
    "hemisphere_lst.append(hemisphere_1)\n",
    "hemisphere_lst\n",
    "browser.back()\n",
    "\n",
    "time.sleep(5)\n",
    "\n",
    "find_a=browser.find_by_css('div[class=\"description\"] a')\n",
    "find_a[1].click()\n",
    "\n",
    "time.sleep(5)\n",
    "\n",
    "html = browser.html\n",
    "hemisphere_soup = bs(html, \"html.parser\")\n",
    "\n",
    "title = hemisphere_soup.find('h2', {\"class\":\"title\"}).text\n",
    "\n",
    "image_url = hemisphere_soup.find(\"img\", class_=\"wide-image\")[\"src\"]\n",
    "\n",
    "hemisphere_1 = {'title': title, 'image_url' : image_url}\n",
    "hemisphere_lst.extend(hemisphere_1)\n",
    "hemisphere_lst\n",
    "# titles = hemisphere_soup.find('a', {'class': 'itemLink product-item'})\n",
    "# titles_try = titles.find_all('h3')[0].text\n",
    "# titles_try\n",
    "# titles_lst= []\n",
    "# for i in titles:\n",
    "#     title = titles.find_all('h3')[i].text\n",
    "#     print(title)\n",
    "\n"
   ]
  },
  {
   "cell_type": "code",
   "execution_count": null,
   "metadata": {},
   "outputs": [],
   "source": []
  }
 ],
 "metadata": {
  "kernelspec": {
   "display_name": "Python 3",
   "language": "python",
   "name": "python3"
  },
  "language_info": {
   "codemirror_mode": {
    "name": "ipython",
    "version": 3
   },
   "file_extension": ".py",
   "mimetype": "text/x-python",
   "name": "python",
   "nbconvert_exporter": "python",
   "pygments_lexer": "ipython3",
   "version": "3.7.1"
  }
 },
 "nbformat": 4,
 "nbformat_minor": 2
}
