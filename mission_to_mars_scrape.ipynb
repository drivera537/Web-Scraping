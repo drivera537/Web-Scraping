{
 "cells": [
  {
   "cell_type": "code",
   "execution_count": 1,
   "metadata": {},
   "outputs": [],
   "source": [
    "from splinter import Browser\n",
    "from bs4 import BeautifulSoup as bs\n",
    "import time\n",
    "import pandas as pd\n",
    "from urllib.parse import urlparse\n"
   ]
  },
  {
   "cell_type": "code",
   "execution_count": 2,
   "metadata": {},
   "outputs": [],
   "source": [
    "def init_browser():\n",
    "    executable_path = {\"executable_path\": \"/usr/local/bin/chromedriver\"}\n",
    "    return Browser(\"chrome\", **executable_path, headless = False)\n"
   ]
  },
  {
   "cell_type": "code",
   "execution_count": 3,
   "metadata": {},
   "outputs": [
    {
     "data": {
      "text/plain": [
       "{'article_date': 'May 29, 2019',\n",
       " 'article_title': \"NASA's Curiosity Mars Rover Finds a Clay Cache\",\n",
       " 'article_synopsis': 'The rover recently drilled two samples, and both showed the highest levels of clay ever found during the mission.'}"
      ]
     },
     "execution_count": 3,
     "metadata": {},
     "output_type": "execute_result"
    }
   ],
   "source": [
    "def news():\n",
    "    browser = init_browser()\n",
    "    urlNews = \"https://mars.nasa.gov/news/\"\n",
    "    browser.visit(urlNews)\n",
    "    time.sleep(5)\n",
    "    html = browser.html\n",
    "    soup = bs(html, \"html.parser\")\n",
    "\n",
    "    # Mars news\n",
    "    title_element = soup.find('div', {'class': \"content_title\"})\n",
    "    for title in title_element:\n",
    "        title = title_element.find_all('a')[0].text\n",
    "\n",
    "    date = soup.find_all('div', {\"class\": 'list_date'})[0].text\n",
    "    paragraph = soup.find_all('div', {'class': \"article_teaser_body\"})[0].text\n",
    "\n",
    "    article_data = {\n",
    "                \"article_date\" : date,\n",
    "                \"article_title\" : title,\n",
    "                \"article_synopsis\": paragraph\n",
    "    }\n",
    "    return article_data\n",
    "    browser.quit()\n",
    "news()"
   ]
  },
  {
   "cell_type": "code",
   "execution_count": 8,
   "metadata": {},
   "outputs": [
    {
     "data": {
      "text/plain": [
       "'https://www.jpl.nasa.gov/spaceimages/images/largesize/PIA19323_hires.jpg'"
      ]
     },
     "execution_count": 8,
     "metadata": {},
     "output_type": "execute_result"
    }
   ],
   "source": [
    "def featured_image():\n",
    "    browser = init_browser()\n",
    "    # get base url to add src of the featured image\n",
    "    \n",
    "    o = urlparse(\"https://www.jpl.nasa.gov/spaceimages/?search=&category=Mars\")\n",
    "\n",
    "    base_url = o.scheme + \"://\"+ o.netloc\n",
    "    base_url\n",
    "\n",
    "    imageUrl = \"https://www.jpl.nasa.gov/spaceimages/?search=&category=Mars\"\n",
    "    browser.visit(imageUrl)\n",
    "\n",
    "    html_image = browser.html\n",
    "    image_soup = bs(html_image, \"html.parser\")\n",
    "\n",
    "    full_image = browser.find_by_id('full_image')\n",
    "    full_image.click()\n",
    "\n",
    "    time.sleep(5)\n",
    "\n",
    "    to_main_image = browser.find_by_text('more info     ')\n",
    "    to_main_image.click()\n",
    "\n",
    "    time.sleep(5)\n",
    "\n",
    "    html_image = browser.html\n",
    "    soup = bs(html_image, \"html.parser\")\n",
    "\n",
    "    i_path = soup.find(\"section\", {'class': \"content_page module\"})\n",
    "    image_path = i_path.find_all('img')[0]['src']\n",
    "\n",
    "    image_url = base_url + image_path\n",
    "    \n",
    "#     browser.quit()\n",
    "    return image_url\n",
    "featured_image()\n"
   ]
  },
  {
   "cell_type": "code",
   "execution_count": 97,
   "metadata": {},
   "outputs": [
    {
     "data": {
      "text/plain": [
       "'InSight sol 178 (2019-05-28) low -101.1ºC (-150.0ºF) high -23.0ºC (-9.5ºF)\\nwinds from the SW at 4.8 m/s (10.8 mph) gusting to 15.0 m/s (33.5 mph)\\npressure at 7.50 hPapic.twitter.com/4Ejlnu9Kam'"
      ]
     },
     "execution_count": 97,
     "metadata": {},
     "output_type": "execute_result"
    }
   ],
   "source": [
    "def weather():\n",
    "    browser = init_browser()\n",
    "    # Weahter Scrape\n",
    "    weather_url = \"https://twitter.com/marswxreport?lang=en\"\n",
    "    weather_url\n",
    "\n",
    "    browser.visit(weather_url)\n",
    "\n",
    "    html_weather = browser.html\n",
    "    weather_soup = bs(html_weather, \"html.parser\")\n",
    "\n",
    "    mars_weather = weather_soup.find(\"p\", {\"class\" : 'tweet-text'}).get_text()\n",
    "    browser.quit()\n",
    "    return mars_weather\n",
    "weather()\n"
   ]
  },
  {
   "cell_type": "code",
   "execution_count": null,
   "metadata": {},
   "outputs": [],
   "source": []
  },
  {
   "cell_type": "code",
   "execution_count": 101,
   "metadata": {},
   "outputs": [
    {
     "data": {
      "text/plain": [
       "'<table border=\"1\" class=\"dataframe\">  <thead>    <tr style=\"text-align: right;\">      <th></th>      <th>keys</th>      <th>dimensions</th>    </tr>  </thead>  <tbody>    <tr>      <th>0</th>      <td>Equatorial Diameter:</td>      <td>6,792 km</td>    </tr>    <tr>      <th>1</th>      <td>Polar Diameter:</td>      <td>6,752 km</td>    </tr>    <tr>      <th>2</th>      <td>Mass:</td>      <td>6.42 x 10^23 kg (10.7% Earth)</td>    </tr>    <tr>      <th>3</th>      <td>Moons:</td>      <td>2 (Phobos &amp; Deimos)</td>    </tr>    <tr>      <th>4</th>      <td>Orbit Distance:</td>      <td>227,943,824 km (1.52 AU)</td>    </tr>    <tr>      <th>5</th>      <td>Orbit Period:</td>      <td>687 days (1.9 years)</td>    </tr>    <tr>      <th>6</th>      <td>Surface Temperature:</td>      <td>-153 to 20 °C</td>    </tr>    <tr>      <th>7</th>      <td>First Record:</td>      <td>2nd millennium BC</td>    </tr>    <tr>      <th>8</th>      <td>Recorded By:</td>      <td>Egyptian astronomers</td>    </tr>  </tbody></table>'"
      ]
     },
     "execution_count": 101,
     "metadata": {},
     "output_type": "execute_result"
    }
   ],
   "source": [
    "def facts():\n",
    "    browser = init_browser()\n",
    "    # Facts Table\n",
    "\n",
    "    url = 'http://space-facts.com/mars/'\n",
    "    facts = pd.read_html(url)\n",
    "    facts[0]\n",
    "\n",
    "    facts_df = facts[0]\n",
    "    facts_df.columns = ['keys','dimensions']\n",
    "    to_html = facts_df.to_html()\n",
    "    html_table = to_html.replace(\"\\n\", \"\")\n",
    "    browser.quit()\n",
    "    return html_table\n",
    "facts()"
   ]
  },
  {
   "cell_type": "code",
   "execution_count": 99,
   "metadata": {},
   "outputs": [
    {
     "data": {
      "text/plain": [
       "[{'title': 'Cerberus Hemisphere Enhanced',\n",
       "  'image_url': 'https://astrogeology.usgs.gov/cache/images/cfa62af2557222a02478f1fcd781d445_cerberus_enhanced.tif_full.jpg'},\n",
       " {'title': 'Schiaparelli Hemisphere Enhanced',\n",
       "  'image_url': 'https://astrogeology.usgs.gov/cache/images/3cdd1cbf5e0813bba925c9030d13b62e_schiaparelli_enhanced.tif_full.jpg'},\n",
       " {'title': 'Syrtis Major Hemisphere Enhanced',\n",
       "  'image_url': 'https://astrogeology.usgs.gov/cache/images/ae209b4e408bb6c3e67b6af38168cf28_syrtis_major_enhanced.tif_full.jpg'},\n",
       " {'title': 'Valles Marineris Hemisphere Enhanced',\n",
       "  'image_url': 'https://astrogeology.usgs.gov/cache/images/7cf2da4bf549ed01c17f206327be4db7_valles_marineris_enhanced.tif_full.jpg'}]"
      ]
     },
     "execution_count": 99,
     "metadata": {},
     "output_type": "execute_result"
    }
   ],
   "source": [
    "def hemisphere():\n",
    "    browser = init_browser()\n",
    "    # Hemisphere\n",
    "    urlNews = \"https://astrogeology.usgs.gov/search/results?q=hemisphere+enhanced&k1=target&v1=Mars\"\n",
    "    browser.visit(urlNews)\n",
    "\n",
    "    o = urlparse(\"https://astrogeology.usgs.gov/search/results?q=hemisphere+enhanced&k1=target&v1=Mars\")\n",
    "\n",
    "    base_url = o.scheme + \"://\"+ o.netloc\n",
    "    base_url\n",
    "\n",
    "    time.sleep(5)\n",
    "\n",
    "    hemisphere_lst = []\n",
    "\n",
    "    find_a=browser.find_by_css('div[class=\"description\"] a')\n",
    "    find_a[0].click()\n",
    "\n",
    "    time.sleep(5)\n",
    "\n",
    "    html = browser.html\n",
    "    hemisphere_soup = bs(html, \"html.parser\")\n",
    "\n",
    "    title = hemisphere_soup.find('h2', {\"class\":\"title\"}).text\n",
    "\n",
    "    image_src = hemisphere_soup.find(\"img\", class_=\"wide-image\")[\"src\"]\n",
    "    image_url = base_url + image_src\n",
    "\n",
    "    hemisphere_1 = {'title': title, 'image_url' : image_url}\n",
    "    hemisphere_lst.append(hemisphere_1)\n",
    "\n",
    "    # go back to starting page\n",
    "    browser.back()\n",
    "\n",
    "    time.sleep(5)\n",
    "\n",
    "    find_a=browser.find_by_css('div[class=\"description\"] a')\n",
    "    find_a[1].click()\n",
    "\n",
    "    time.sleep(5)\n",
    "\n",
    "    html = browser.html\n",
    "    hemisphere_soup = bs(html, \"html.parser\")\n",
    "\n",
    "    title = hemisphere_soup.find('h2', {\"class\":\"title\"}).text\n",
    "\n",
    "    image_src = hemisphere_soup.find(\"img\", class_=\"wide-image\")[\"src\"]\n",
    "    image_url = base_url + image_src\n",
    "\n",
    "    hemisphere_2 = {'title': title, 'image_url' : image_url}\n",
    "    hemisphere_2\n",
    "    hemisphere_lst.append(hemisphere_2)\n",
    "    hemisphere_lst\n",
    "\n",
    "    browser.back()\n",
    "\n",
    "    time.sleep(5)\n",
    "\n",
    "    find_a=browser.find_by_css('div[class=\"description\"] a')\n",
    "    find_a[2].click()\n",
    "\n",
    "    time.sleep(5)\n",
    "\n",
    "    html = browser.html\n",
    "    hemisphere_soup = bs(html, \"html.parser\")\n",
    "\n",
    "    title = hemisphere_soup.find('h2', {\"class\":\"title\"}).text\n",
    "\n",
    "    image_src = hemisphere_soup.find(\"img\", class_=\"wide-image\")[\"src\"]\n",
    "    image_url = base_url + image_src\n",
    "\n",
    "    hemisphere_3 = {'title': title, 'image_url' : image_url}\n",
    "\n",
    "    hemisphere_lst.append(hemisphere_3)\n",
    "    hemisphere_lst\n",
    "\n",
    "    browser.back()\n",
    "\n",
    "    time.sleep(5)\n",
    "\n",
    "    find_a=browser.find_by_css('div[class=\"description\"] a')\n",
    "    find_a[3].click()\n",
    "\n",
    "    time.sleep(5)\n",
    "\n",
    "    html = browser.html\n",
    "    hemisphere_soup = bs(html, \"html.parser\")\n",
    "\n",
    "    title = hemisphere_soup.find('h2', {\"class\":\"title\"}).text\n",
    "\n",
    "    image_src = hemisphere_soup.find(\"img\", class_=\"wide-image\")[\"src\"]\n",
    "    image_url = base_url + image_src\n",
    "\n",
    "    hemisphere_4 = {'title': title, 'image_url' : image_url}\n",
    "\n",
    "    hemisphere_lst.append(hemisphere_4)\n",
    "    browser.quit()\n",
    "    return hemisphere_lst\n",
    "hemisphere()"
   ]
  },
  {
   "cell_type": "code",
   "execution_count": null,
   "metadata": {},
   "outputs": [],
   "source": []
  }
 ],
 "metadata": {
  "kernelspec": {
   "display_name": "Python 3",
   "language": "python",
   "name": "python3"
  },
  "language_info": {
   "codemirror_mode": {
    "name": "ipython",
    "version": 3
   },
   "file_extension": ".py",
   "mimetype": "text/x-python",
   "name": "python",
   "nbconvert_exporter": "python",
   "pygments_lexer": "ipython3",
   "version": "3.7.1"
  }
 },
 "nbformat": 4,
 "nbformat_minor": 2
}
